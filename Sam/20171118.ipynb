{
 "cells": [
  {
   "cell_type": "code",
   "execution_count": 5,
   "metadata": {
    "collapsed": false
   },
   "outputs": [
    {
     "name": "stdout",
     "output_type": "stream",
     "text": [
      "Using matplotlib backend: TkAgg\n"
     ]
    }
   ],
   "source": [
    "%matplotlib\n",
    "import numpy as np\n",
    "import scipy as sp\n",
    "from scipy import linalg as la\n",
    "import matplotlib.pyplot as plt\n",
    "from glob import glob"
   ]
  },
  {
   "cell_type": "code",
   "execution_count": 81,
   "metadata": {
    "collapsed": true
   },
   "outputs": [],
   "source": [
    "#from tvregdiff import TVRegDiff as tvdiff"
   ]
  },
  {
   "cell_type": "code",
   "execution_count": 9,
   "metadata": {
    "collapsed": false
   },
   "outputs": [],
   "source": [
    "fis = glob('PWM*.csv')\n",
    "noload = [fi for fi in fis if 'L' not in fi]\n",
    "load = [fi for fi in fis if 'L' in fi]"
   ]
  },
  {
   "cell_type": "code",
   "execution_count": 25,
   "metadata": {
    "collapsed": false
   },
   "outputs": [],
   "source": [
    "cvt = {0: lambda s : float(s[1:]), 2: lambda s : float(s[:-1])}\n",
    "def data(fis):\n",
    "    d = []\n",
    "    for fi in fis:\n",
    "        d.append(np.genfromtxt(fi,skip_header=1,delimiter=',',converters=cvt))\n",
    "    return np.asarray(d)\n",
    "\n",
    "nd = data(noload)\n",
    "ld = data(load)"
   ]
  },
  {
   "cell_type": "code",
   "execution_count": 80,
   "metadata": {
    "collapsed": false
   },
   "outputs": [],
   "source": [
    "t,q,dq = nd[0,:,0],nd[...,1].T,nd[...,2].T\n",
    "\n",
    "q = np.unwrap(q,axis=0)\n",
    "q_ = t[:,np.newaxis]*(np.diff(q,axis=0).T/np.diff(t))[-100:].mean(axis=1)\n",
    "r = q - q_\n",
    "dq_ = np.mean(dq,axis=0)\n",
    "dr = (dq - dq_)/1000\n",
    "\n",
    "n = 100\n",
    "\n",
    "fig = plt.figure(1); plt.clf();\n",
    "ax = plt.subplot(2,1,1); ax.grid('on')\n",
    "ax.plot(t[n:],(r - r[-100:].mean(axis=0))[n:])\n",
    "ax.set_ylabel('angle residual (rad)')\n",
    "ax = plt.subplot(2,1,2); ax.grid('on')\n",
    "#ax.plot(np.diff(q,axis=0))\n",
    "#ax.plot(dq/1000,'--')\n",
    "ax.plot(t[n+1:],(np.diff(r,axis=0)/np.diff(t)[:,np.newaxis])[n:])\n",
    "#ax.plot(t[n:],dr[n:],'--')\n",
    "ax.set_ylabel('velocity residual (rad/msec)')\n",
    "\n",
    "ax.set_xlabel('time (msec)')\n",
    "fig.savefig('residuals.pdf')\n",
    "fig.savefig('residuals.png')"
   ]
  },
  {
   "cell_type": "code",
   "execution_count": null,
   "metadata": {
    "collapsed": true
   },
   "outputs": [],
   "source": []
  }
 ],
 "metadata": {
  "kernelspec": {
   "display_name": "Python 2",
   "language": "python",
   "name": "python2"
  },
  "language_info": {
   "codemirror_mode": {
    "name": "ipython",
    "version": 2
   },
   "file_extension": ".py",
   "mimetype": "text/x-python",
   "name": "python",
   "nbconvert_exporter": "python",
   "pygments_lexer": "ipython2",
   "version": "2.7.10"
  }
 },
 "nbformat": 4,
 "nbformat_minor": 0
}
